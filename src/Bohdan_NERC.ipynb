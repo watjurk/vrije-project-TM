{
 "cells": [
  {
   "cell_type": "markdown",
   "source": [
    "# NERC task"
   ],
   "metadata": {
    "collapsed": false
   },
   "id": "253562328ee73a3e"
  },
  {
   "cell_type": "markdown",
   "source": [
    "# CRF"
   ],
   "metadata": {
    "collapsed": false
   },
   "id": "23d14c0ea4f2f35c"
  },
  {
   "cell_type": "code",
   "outputs": [],
   "source": [
    "import pandas as pd\n",
    "import sklearn_crfsuite\n",
    "from sklearn_crfsuite import metrics"
   ],
   "metadata": {
    "collapsed": false,
    "ExecuteTime": {
     "end_time": "2025-05-31T13:47:21.876117Z",
     "start_time": "2025-05-31T13:47:21.184941Z"
    }
   },
   "id": "b2bcc40fa8662e67",
   "execution_count": 34
  },
  {
   "cell_type": "markdown",
   "source": [
    "## Load the data"
   ],
   "metadata": {
    "collapsed": false
   },
   "id": "c5ef7bd24068e3d4"
  },
  {
   "cell_type": "code",
   "outputs": [],
   "source": [
    "train_data = pd.read_csv(\"vrije-project-TM/data/Training_data/kaggle/ner_dataset.csv\", encoding=\"latin1\")\n",
    "test_data = pd.read_csv(\"vrije-project-TM/data/NER-test.tsv\", sep=\"\\t\", encoding=\"latin1\")"
   ],
   "metadata": {
    "collapsed": false,
    "ExecuteTime": {
     "end_time": "2025-05-31T13:47:22.767860Z",
     "start_time": "2025-05-31T13:47:22.531909Z"
    }
   },
   "id": "23825bb3d1bb9835",
   "execution_count": 35
  },
  {
   "cell_type": "markdown",
   "source": [
    "## Preprocess the train data"
   ],
   "metadata": {
    "collapsed": false
   },
   "id": "fbfca9281d0b26bd"
  },
  {
   "cell_type": "code",
   "outputs": [
    {
     "name": "stdout",
     "output_type": "stream",
     "text": [
      "     Sentence #           Word    Tag\n",
      "0   Sentence: 1      Thousands      O\n",
      "1   Sentence: 1             of      O\n",
      "2   Sentence: 1  demonstrators      O\n",
      "3   Sentence: 1           have      O\n",
      "4   Sentence: 1        marched      O\n",
      "5   Sentence: 1        through      O\n",
      "6   Sentence: 1         London  B-geo\n",
      "7   Sentence: 1             to      O\n",
      "8   Sentence: 1        protest      O\n",
      "9   Sentence: 1            the      O\n",
      "10  Sentence: 1            war      O\n",
      "11  Sentence: 1             in      O\n",
      "12  Sentence: 1           Iraq  B-geo\n",
      "13  Sentence: 1            and      O\n",
      "14  Sentence: 1         demand      O\n",
      "15  Sentence: 1            the      O\n",
      "16  Sentence: 1     withdrawal      O\n",
      "17  Sentence: 1             of      O\n",
      "18  Sentence: 1        British  B-gpe\n",
      "19  Sentence: 1         troops      O\n"
     ]
    }
   ],
   "source": [
    "train_data = train_data.ffill()\n",
    "\n",
    "transformed_train_data = train_data.drop('POS', axis=1)"
   ],
   "metadata": {
    "collapsed": false,
    "ExecuteTime": {
     "end_time": "2025-05-31T13:47:23.800315Z",
     "start_time": "2025-05-31T13:47:23.544489Z"
    }
   },
   "id": "b1b43ff47ec06af2",
   "execution_count": 36
  },
  {
   "cell_type": "markdown",
   "source": [
    "## Preprocess the test data"
   ],
   "metadata": {
    "collapsed": false
   },
   "id": "be4ef7f0d6f0f3d2"
  },
  {
   "cell_type": "code",
   "outputs": [],
   "source": [
    "transformed_test_data = pd.DataFrame(columns=[\"Sentence #\", \"Word\", \"Tag\"])\n",
    "\n",
    "sentence_labels = []\n",
    "current_sentence = None\n",
    "    \n",
    "for idx, row in test_data.iterrows():\n",
    "    if row['sentence_id'] != current_sentence:\n",
    "        sentence_labels.append(f\"Sentence: {row['sentence_id'] + 1}\")\n",
    "        current_sentence = row['sentence_id']\n",
    "    else:\n",
    "        sentence_labels.append(f\"Sentence: {row['sentence_id'] + 1}\")\n",
    "        \n",
    "converted_test_labels = []\n",
    "\n",
    "for label in test_data['BIO_NER_tag'].values:\n",
    "    match label:\n",
    "        case \"O\":\n",
    "            converted_test_labels.append(\"O\")\n",
    "        case \"B-PERSON\":\n",
    "            converted_test_labels.append(\"B-per\")\n",
    "        case \"I-PERSON\":\n",
    "            converted_test_labels.append(\"I-per\")\n",
    "        case \"B-ORG\":\n",
    "            converted_test_labels.append(\"B-org\")\n",
    "        case \"I-ORG\":\n",
    "            converted_test_labels.append(\"I-org\")\n",
    "        case \"B-LOCATION\":\n",
    "            converted_test_labels.append(\"B-geo\")\n",
    "        case \"I-LOCATION\":\n",
    "            converted_test_labels.append(\"I-geo\")\n",
    "        case \"B-WORK_OF_ART\":\n",
    "            converted_test_labels.append(\"B-art\")\n",
    "        case \"I-WORK_OF_ART\":\n",
    "            converted_test_labels.append(\"I-art\")\n",
    "        case \"B-ORG\":\n",
    "            converted_test_labels.append(\"B-org\")\n",
    "        case \"I-ORG\":\n",
    "            converted_test_labels.append(\"I-org\")\n",
    "        \n",
    "transformed_test_data['Sentence #'] = sentence_labels\n",
    "transformed_test_data['Word'] = test_data['token']\n",
    "transformed_test_data['Tag'] = converted_test_labels"
   ],
   "metadata": {
    "collapsed": false,
    "ExecuteTime": {
     "end_time": "2025-05-31T13:47:24.866767Z",
     "start_time": "2025-05-31T13:47:24.864750Z"
    }
   },
   "id": "6a6a0d0f68bab539",
   "execution_count": 38
  },
  {
   "cell_type": "code",
   "outputs": [
    {
     "data": {
      "text/plain": "     Sentence #      Word    Tag\n0   Sentence: 1        If      O\n1   Sentence: 1    you're      O\n2   Sentence: 1  visiting      O\n3   Sentence: 1     Paris  B-geo\n4   Sentence: 1         ,      O\n5   Sentence: 1      make      O\n6   Sentence: 1      sure      O\n7   Sentence: 1        to      O\n8   Sentence: 1       see      O\n9   Sentence: 1       the      O\n10  Sentence: 1    Louvre  B-org\n11  Sentence: 1         ,      O\n12  Sentence: 1        as      O\n13  Sentence: 1      they      O\n14  Sentence: 1   exhibit      O\n15  Sentence: 1       the      O\n16  Sentence: 1      Mona  B-art\n17  Sentence: 1      Lisa  I-art\n18  Sentence: 1         !      O\n19  Sentence: 2    Amazon  B-org",
      "text/html": "<div>\n<style scoped>\n    .dataframe tbody tr th:only-of-type {\n        vertical-align: middle;\n    }\n\n    .dataframe tbody tr th {\n        vertical-align: top;\n    }\n\n    .dataframe thead th {\n        text-align: right;\n    }\n</style>\n<table border=\"1\" class=\"dataframe\">\n  <thead>\n    <tr style=\"text-align: right;\">\n      <th></th>\n      <th>Sentence #</th>\n      <th>Word</th>\n      <th>Tag</th>\n    </tr>\n  </thead>\n  <tbody>\n    <tr>\n      <th>0</th>\n      <td>Sentence: 1</td>\n      <td>If</td>\n      <td>O</td>\n    </tr>\n    <tr>\n      <th>1</th>\n      <td>Sentence: 1</td>\n      <td>you're</td>\n      <td>O</td>\n    </tr>\n    <tr>\n      <th>2</th>\n      <td>Sentence: 1</td>\n      <td>visiting</td>\n      <td>O</td>\n    </tr>\n    <tr>\n      <th>3</th>\n      <td>Sentence: 1</td>\n      <td>Paris</td>\n      <td>B-geo</td>\n    </tr>\n    <tr>\n      <th>4</th>\n      <td>Sentence: 1</td>\n      <td>,</td>\n      <td>O</td>\n    </tr>\n    <tr>\n      <th>5</th>\n      <td>Sentence: 1</td>\n      <td>make</td>\n      <td>O</td>\n    </tr>\n    <tr>\n      <th>6</th>\n      <td>Sentence: 1</td>\n      <td>sure</td>\n      <td>O</td>\n    </tr>\n    <tr>\n      <th>7</th>\n      <td>Sentence: 1</td>\n      <td>to</td>\n      <td>O</td>\n    </tr>\n    <tr>\n      <th>8</th>\n      <td>Sentence: 1</td>\n      <td>see</td>\n      <td>O</td>\n    </tr>\n    <tr>\n      <th>9</th>\n      <td>Sentence: 1</td>\n      <td>the</td>\n      <td>O</td>\n    </tr>\n    <tr>\n      <th>10</th>\n      <td>Sentence: 1</td>\n      <td>Louvre</td>\n      <td>B-org</td>\n    </tr>\n    <tr>\n      <th>11</th>\n      <td>Sentence: 1</td>\n      <td>,</td>\n      <td>O</td>\n    </tr>\n    <tr>\n      <th>12</th>\n      <td>Sentence: 1</td>\n      <td>as</td>\n      <td>O</td>\n    </tr>\n    <tr>\n      <th>13</th>\n      <td>Sentence: 1</td>\n      <td>they</td>\n      <td>O</td>\n    </tr>\n    <tr>\n      <th>14</th>\n      <td>Sentence: 1</td>\n      <td>exhibit</td>\n      <td>O</td>\n    </tr>\n    <tr>\n      <th>15</th>\n      <td>Sentence: 1</td>\n      <td>the</td>\n      <td>O</td>\n    </tr>\n    <tr>\n      <th>16</th>\n      <td>Sentence: 1</td>\n      <td>Mona</td>\n      <td>B-art</td>\n    </tr>\n    <tr>\n      <th>17</th>\n      <td>Sentence: 1</td>\n      <td>Lisa</td>\n      <td>I-art</td>\n    </tr>\n    <tr>\n      <th>18</th>\n      <td>Sentence: 1</td>\n      <td>!</td>\n      <td>O</td>\n    </tr>\n    <tr>\n      <th>19</th>\n      <td>Sentence: 2</td>\n      <td>Amazon</td>\n      <td>B-org</td>\n    </tr>\n  </tbody>\n</table>\n</div>"
     },
     "execution_count": 108,
     "metadata": {},
     "output_type": "execute_result"
    }
   ],
   "source": [
    "transformed_test_data.head(20)"
   ],
   "metadata": {
    "collapsed": false,
    "ExecuteTime": {
     "end_time": "2025-05-31T16:16:23.717853Z",
     "start_time": "2025-05-31T16:16:23.710712Z"
    }
   },
   "id": "4f153312d331dd90",
   "execution_count": 108
  },
  {
   "cell_type": "markdown",
   "source": [
    "## Check the labels in the train and test data:"
   ],
   "metadata": {
    "collapsed": false
   },
   "id": "f37f22e1b0872156"
  },
  {
   "cell_type": "code",
   "outputs": [
    {
     "name": "stdout",
     "output_type": "stream",
     "text": [
      "Test data tag counts: Tag\n",
      "O        159\n",
      "I-per     13\n",
      "B-per     12\n",
      "B-org      8\n",
      "I-art      8\n",
      "B-art      6\n",
      "I-org      5\n",
      "B-geo      3\n",
      "I-geo      2\n",
      "Name: count, dtype: int64\n",
      "\n",
      "Train data tag counts: Tag\n",
      "O        887908\n",
      "B-geo     37644\n",
      "B-tim     20333\n",
      "B-org     20143\n",
      "I-per     17251\n",
      "B-per     16990\n",
      "I-org     16784\n",
      "B-gpe     15870\n",
      "I-geo      7414\n",
      "I-tim      6528\n",
      "B-art       402\n",
      "B-eve       308\n",
      "I-art       297\n",
      "I-eve       253\n",
      "B-nat       201\n",
      "I-gpe       198\n",
      "I-nat        51\n",
      "Name: count, dtype: int64\n"
     ]
    }
   ],
   "source": [
    "tag_counts_test = transformed_test_data['Tag'].value_counts()\n",
    "tag_counts_train = transformed_train_data['Tag'].value_counts()\n",
    "print(\"Test data tag counts:\" , tag_counts_test)\n",
    "print()\n",
    "print(\"Train data tag counts:\" , tag_counts_train)"
   ],
   "metadata": {
    "collapsed": false,
    "ExecuteTime": {
     "end_time": "2025-05-31T16:13:52.985259Z",
     "start_time": "2025-05-31T16:13:52.981820Z"
    }
   },
   "id": "31cd489b0e23846f",
   "execution_count": 107
  },
  {
   "cell_type": "markdown",
   "source": [
    "## Create a sentence getter class"
   ],
   "metadata": {
    "collapsed": false
   },
   "id": "62e0edac65e5607f"
  },
  {
   "cell_type": "code",
   "outputs": [],
   "source": [
    "class SentenceGetter(object):\n",
    "    \n",
    "    def __init__(self, data):\n",
    "        self.n_sent = 1\n",
    "        self.data = data\n",
    "        self.empty = False\n",
    "        agg_func = lambda s: [(w, t) for w, t in zip(s[\"Word\"].values.tolist(),\n",
    "                                                           s[\"Tag\"].values.tolist())]\n",
    "        self.grouped = self.data.groupby(\"Sentence #\").apply(agg_func)\n",
    "        self.sentences = [s for s in self.grouped]\n",
    "    \n",
    "    def get_next(self):\n",
    "        try:\n",
    "            s = self.grouped[\"Sentence: {}\".format(self.n_sent)]\n",
    "            self.n_sent += 1\n",
    "            return s\n",
    "        except:\n",
    "            return None"
   ],
   "metadata": {
    "collapsed": false,
    "ExecuteTime": {
     "end_time": "2025-05-31T13:47:25.946916Z",
     "start_time": "2025-05-31T13:47:25.944563Z"
    }
   },
   "id": "d3e02cae4ca5d93c",
   "execution_count": 41
  },
  {
   "cell_type": "code",
   "outputs": [
    {
     "name": "stderr",
     "output_type": "stream",
     "text": [
      "/var/folders/7g/y23_f8fx7674ls2cfgh7r39m0000gn/T/ipykernel_3895/2851067360.py:9: DeprecationWarning: DataFrameGroupBy.apply operated on the grouping columns. This behavior is deprecated, and in a future version of pandas the grouping columns will be excluded from the operation. Either pass `include_groups=False` to exclude the groupings or explicitly select the grouping columns after groupby to silence this warning.\n",
      "  self.grouped = self.data.groupby(\"Sentence #\").apply(agg_func)\n",
      "/var/folders/7g/y23_f8fx7674ls2cfgh7r39m0000gn/T/ipykernel_3895/2851067360.py:9: DeprecationWarning: DataFrameGroupBy.apply operated on the grouping columns. This behavior is deprecated, and in a future version of pandas the grouping columns will be excluded from the operation. Either pass `include_groups=False` to exclude the groupings or explicitly select the grouping columns after groupby to silence this warning.\n",
      "  self.grouped = self.data.groupby(\"Sentence #\").apply(agg_func)\n"
     ]
    }
   ],
   "source": [
    "train_sentences = SentenceGetter(transformed_train_data).sentences\n",
    "test_sentences = SentenceGetter(transformed_test_data).sentences"
   ],
   "metadata": {
    "collapsed": false,
    "ExecuteTime": {
     "end_time": "2025-05-31T13:47:27.754412Z",
     "start_time": "2025-05-31T13:47:26.369560Z"
    }
   },
   "id": "b14fa607c8ba2238",
   "execution_count": 42
  },
  {
   "cell_type": "code",
   "outputs": [
    {
     "name": "stdout",
     "output_type": "stream",
     "text": [
      "[\"If you're visiting Paris , make sure to see the Louvre , as they exhibit the Mona Lisa !\", 'Amazon , Google and Meta control a huge share of the technology market globally .', 'Did you hear Pharoah Sanders recorded an album with Floating Points ?']\n"
     ]
    }
   ],
   "source": [
    "print(test_sentences[0:3])  "
   ],
   "metadata": {
    "collapsed": false,
    "ExecuteTime": {
     "end_time": "2025-05-31T15:49:59.675022Z",
     "start_time": "2025-05-31T15:49:59.661889Z"
    }
   },
   "id": "7b4f5c55299905ac",
   "execution_count": 90
  },
  {
   "cell_type": "markdown",
   "source": [
    "## Create features for the NERC task"
   ],
   "metadata": {
    "collapsed": false
   },
   "id": "7aee3e8d251c4ad8"
  },
  {
   "cell_type": "code",
   "outputs": [],
   "source": [
    "def word2features(sent, i):\n",
    "    word = sent[i][0]\n",
    "    \n",
    "    features = {\n",
    "        'bias': 1.0,\n",
    "        'word.lower()': word.lower(), \n",
    "        'word[-3:]': word[-3:], \n",
    "        'word[-2:]': word[-2:], \n",
    "        'word.isupper()': word.isupper(), \n",
    "        'word.istitle()': word.istitle(), \n",
    "        'word.isdigit()': word.isdigit(),\n",
    "    }\n",
    "    if i > 0:\n",
    "        word1 = sent[i-1][0] \n",
    "        features.update({\n",
    "            '-1:word.lower()': word1.lower(),\n",
    "            '-1:word.istitle()': word1.istitle(),\n",
    "            '-1:word.isupper()': word1.isupper(),\n",
    "        })\n",
    "    else:\n",
    "        features['BOS'] = True \n",
    "\n",
    "    if i < len(sent)-1:\n",
    "        word1 = sent[i+1][0] \n",
    "        features.update({\n",
    "            '+1:word.lower()': word1.lower(),\n",
    "            '+1:word.istitle()': word1.istitle(),\n",
    "            '+1:word.isupper()': word1.isupper(),\n",
    "        })\n",
    "    else:\n",
    "        features['EOS'] = True \n",
    "\n",
    "    return features\n",
    "\n",
    "\n",
    "def sent2features(sent):\n",
    "    return [word2features(sent, i) for i in range(len(sent))]\n",
    "\n",
    "def sent2labels(sent):\n",
    "    return [label for token, label in sent]\n",
    "\n",
    "def sent2tokens(sent):\n",
    "    return [token for token, label in sent]"
   ],
   "metadata": {
    "collapsed": false,
    "ExecuteTime": {
     "end_time": "2025-05-31T13:47:29.224256Z",
     "start_time": "2025-05-31T13:47:29.221609Z"
    }
   },
   "id": "5784772e7fb7b48",
   "execution_count": 44
  },
  {
   "cell_type": "markdown",
   "source": [
    "## Create the features for the train and test data"
   ],
   "metadata": {
    "collapsed": false
   },
   "id": "513ab2bb11f35e3c"
  },
  {
   "cell_type": "code",
   "outputs": [],
   "source": [
    "X_train = [sent2features(s) for s in train_sentences]\n",
    "y_train = [sent2labels(s) for s in train_sentences]\n",
    "\n",
    "X_test = [sent2features(s) for s in test_sentences]\n",
    "y_test = [sent2labels(s) for s in test_sentences]"
   ],
   "metadata": {
    "collapsed": false,
    "ExecuteTime": {
     "end_time": "2025-05-31T13:47:31.518783Z",
     "start_time": "2025-05-31T13:47:30.667320Z"
    }
   },
   "id": "b096b40f9ef7a2a3",
   "execution_count": 45
  },
  {
   "cell_type": "markdown",
   "source": [
    "## Train a CRF model"
   ],
   "metadata": {
    "collapsed": false
   },
   "id": "85dd8807162e44ad"
  },
  {
   "cell_type": "code",
   "outputs": [
    {
     "data": {
      "text/plain": "CRF(algorithm='lbfgs', all_possible_transitions=True, c1=0.1, c2=0.1,\n    max_iterations=100)",
      "text/html": "<style>#sk-container-id-1 {\n  /* Definition of color scheme common for light and dark mode */\n  --sklearn-color-text: #000;\n  --sklearn-color-text-muted: #666;\n  --sklearn-color-line: gray;\n  /* Definition of color scheme for unfitted estimators */\n  --sklearn-color-unfitted-level-0: #fff5e6;\n  --sklearn-color-unfitted-level-1: #f6e4d2;\n  --sklearn-color-unfitted-level-2: #ffe0b3;\n  --sklearn-color-unfitted-level-3: chocolate;\n  /* Definition of color scheme for fitted estimators */\n  --sklearn-color-fitted-level-0: #f0f8ff;\n  --sklearn-color-fitted-level-1: #d4ebff;\n  --sklearn-color-fitted-level-2: #b3dbfd;\n  --sklearn-color-fitted-level-3: cornflowerblue;\n\n  /* Specific color for light theme */\n  --sklearn-color-text-on-default-background: var(--sg-text-color, var(--theme-code-foreground, var(--jp-content-font-color1, black)));\n  --sklearn-color-background: var(--sg-background-color, var(--theme-background, var(--jp-layout-color0, white)));\n  --sklearn-color-border-box: var(--sg-text-color, var(--theme-code-foreground, var(--jp-content-font-color1, black)));\n  --sklearn-color-icon: #696969;\n\n  @media (prefers-color-scheme: dark) {\n    /* Redefinition of color scheme for dark theme */\n    --sklearn-color-text-on-default-background: var(--sg-text-color, var(--theme-code-foreground, var(--jp-content-font-color1, white)));\n    --sklearn-color-background: var(--sg-background-color, var(--theme-background, var(--jp-layout-color0, #111)));\n    --sklearn-color-border-box: var(--sg-text-color, var(--theme-code-foreground, var(--jp-content-font-color1, white)));\n    --sklearn-color-icon: #878787;\n  }\n}\n\n#sk-container-id-1 {\n  color: var(--sklearn-color-text);\n}\n\n#sk-container-id-1 pre {\n  padding: 0;\n}\n\n#sk-container-id-1 input.sk-hidden--visually {\n  border: 0;\n  clip: rect(1px 1px 1px 1px);\n  clip: rect(1px, 1px, 1px, 1px);\n  height: 1px;\n  margin: -1px;\n  overflow: hidden;\n  padding: 0;\n  position: absolute;\n  width: 1px;\n}\n\n#sk-container-id-1 div.sk-dashed-wrapped {\n  border: 1px dashed var(--sklearn-color-line);\n  margin: 0 0.4em 0.5em 0.4em;\n  box-sizing: border-box;\n  padding-bottom: 0.4em;\n  background-color: var(--sklearn-color-background);\n}\n\n#sk-container-id-1 div.sk-container {\n  /* jupyter's `normalize.less` sets `[hidden] { display: none; }`\n     but bootstrap.min.css set `[hidden] { display: none !important; }`\n     so we also need the `!important` here to be able to override the\n     default hidden behavior on the sphinx rendered scikit-learn.org.\n     See: https://github.com/scikit-learn/scikit-learn/issues/21755 */\n  display: inline-block !important;\n  position: relative;\n}\n\n#sk-container-id-1 div.sk-text-repr-fallback {\n  display: none;\n}\n\ndiv.sk-parallel-item,\ndiv.sk-serial,\ndiv.sk-item {\n  /* draw centered vertical line to link estimators */\n  background-image: linear-gradient(var(--sklearn-color-text-on-default-background), var(--sklearn-color-text-on-default-background));\n  background-size: 2px 100%;\n  background-repeat: no-repeat;\n  background-position: center center;\n}\n\n/* Parallel-specific style estimator block */\n\n#sk-container-id-1 div.sk-parallel-item::after {\n  content: \"\";\n  width: 100%;\n  border-bottom: 2px solid var(--sklearn-color-text-on-default-background);\n  flex-grow: 1;\n}\n\n#sk-container-id-1 div.sk-parallel {\n  display: flex;\n  align-items: stretch;\n  justify-content: center;\n  background-color: var(--sklearn-color-background);\n  position: relative;\n}\n\n#sk-container-id-1 div.sk-parallel-item {\n  display: flex;\n  flex-direction: column;\n}\n\n#sk-container-id-1 div.sk-parallel-item:first-child::after {\n  align-self: flex-end;\n  width: 50%;\n}\n\n#sk-container-id-1 div.sk-parallel-item:last-child::after {\n  align-self: flex-start;\n  width: 50%;\n}\n\n#sk-container-id-1 div.sk-parallel-item:only-child::after {\n  width: 0;\n}\n\n/* Serial-specific style estimator block */\n\n#sk-container-id-1 div.sk-serial {\n  display: flex;\n  flex-direction: column;\n  align-items: center;\n  background-color: var(--sklearn-color-background);\n  padding-right: 1em;\n  padding-left: 1em;\n}\n\n\n/* Toggleable style: style used for estimator/Pipeline/ColumnTransformer box that is\nclickable and can be expanded/collapsed.\n- Pipeline and ColumnTransformer use this feature and define the default style\n- Estimators will overwrite some part of the style using the `sk-estimator` class\n*/\n\n/* Pipeline and ColumnTransformer style (default) */\n\n#sk-container-id-1 div.sk-toggleable {\n  /* Default theme specific background. It is overwritten whether we have a\n  specific estimator or a Pipeline/ColumnTransformer */\n  background-color: var(--sklearn-color-background);\n}\n\n/* Toggleable label */\n#sk-container-id-1 label.sk-toggleable__label {\n  cursor: pointer;\n  display: flex;\n  width: 100%;\n  margin-bottom: 0;\n  padding: 0.5em;\n  box-sizing: border-box;\n  text-align: center;\n  align-items: start;\n  justify-content: space-between;\n  gap: 0.5em;\n}\n\n#sk-container-id-1 label.sk-toggleable__label .caption {\n  font-size: 0.6rem;\n  font-weight: lighter;\n  color: var(--sklearn-color-text-muted);\n}\n\n#sk-container-id-1 label.sk-toggleable__label-arrow:before {\n  /* Arrow on the left of the label */\n  content: \"▸\";\n  float: left;\n  margin-right: 0.25em;\n  color: var(--sklearn-color-icon);\n}\n\n#sk-container-id-1 label.sk-toggleable__label-arrow:hover:before {\n  color: var(--sklearn-color-text);\n}\n\n/* Toggleable content - dropdown */\n\n#sk-container-id-1 div.sk-toggleable__content {\n  max-height: 0;\n  max-width: 0;\n  overflow: hidden;\n  text-align: left;\n  /* unfitted */\n  background-color: var(--sklearn-color-unfitted-level-0);\n}\n\n#sk-container-id-1 div.sk-toggleable__content.fitted {\n  /* fitted */\n  background-color: var(--sklearn-color-fitted-level-0);\n}\n\n#sk-container-id-1 div.sk-toggleable__content pre {\n  margin: 0.2em;\n  border-radius: 0.25em;\n  color: var(--sklearn-color-text);\n  /* unfitted */\n  background-color: var(--sklearn-color-unfitted-level-0);\n}\n\n#sk-container-id-1 div.sk-toggleable__content.fitted pre {\n  /* unfitted */\n  background-color: var(--sklearn-color-fitted-level-0);\n}\n\n#sk-container-id-1 input.sk-toggleable__control:checked~div.sk-toggleable__content {\n  /* Expand drop-down */\n  max-height: 200px;\n  max-width: 100%;\n  overflow: auto;\n}\n\n#sk-container-id-1 input.sk-toggleable__control:checked~label.sk-toggleable__label-arrow:before {\n  content: \"▾\";\n}\n\n/* Pipeline/ColumnTransformer-specific style */\n\n#sk-container-id-1 div.sk-label input.sk-toggleable__control:checked~label.sk-toggleable__label {\n  color: var(--sklearn-color-text);\n  background-color: var(--sklearn-color-unfitted-level-2);\n}\n\n#sk-container-id-1 div.sk-label.fitted input.sk-toggleable__control:checked~label.sk-toggleable__label {\n  background-color: var(--sklearn-color-fitted-level-2);\n}\n\n/* Estimator-specific style */\n\n/* Colorize estimator box */\n#sk-container-id-1 div.sk-estimator input.sk-toggleable__control:checked~label.sk-toggleable__label {\n  /* unfitted */\n  background-color: var(--sklearn-color-unfitted-level-2);\n}\n\n#sk-container-id-1 div.sk-estimator.fitted input.sk-toggleable__control:checked~label.sk-toggleable__label {\n  /* fitted */\n  background-color: var(--sklearn-color-fitted-level-2);\n}\n\n#sk-container-id-1 div.sk-label label.sk-toggleable__label,\n#sk-container-id-1 div.sk-label label {\n  /* The background is the default theme color */\n  color: var(--sklearn-color-text-on-default-background);\n}\n\n/* On hover, darken the color of the background */\n#sk-container-id-1 div.sk-label:hover label.sk-toggleable__label {\n  color: var(--sklearn-color-text);\n  background-color: var(--sklearn-color-unfitted-level-2);\n}\n\n/* Label box, darken color on hover, fitted */\n#sk-container-id-1 div.sk-label.fitted:hover label.sk-toggleable__label.fitted {\n  color: var(--sklearn-color-text);\n  background-color: var(--sklearn-color-fitted-level-2);\n}\n\n/* Estimator label */\n\n#sk-container-id-1 div.sk-label label {\n  font-family: monospace;\n  font-weight: bold;\n  display: inline-block;\n  line-height: 1.2em;\n}\n\n#sk-container-id-1 div.sk-label-container {\n  text-align: center;\n}\n\n/* Estimator-specific */\n#sk-container-id-1 div.sk-estimator {\n  font-family: monospace;\n  border: 1px dotted var(--sklearn-color-border-box);\n  border-radius: 0.25em;\n  box-sizing: border-box;\n  margin-bottom: 0.5em;\n  /* unfitted */\n  background-color: var(--sklearn-color-unfitted-level-0);\n}\n\n#sk-container-id-1 div.sk-estimator.fitted {\n  /* fitted */\n  background-color: var(--sklearn-color-fitted-level-0);\n}\n\n/* on hover */\n#sk-container-id-1 div.sk-estimator:hover {\n  /* unfitted */\n  background-color: var(--sklearn-color-unfitted-level-2);\n}\n\n#sk-container-id-1 div.sk-estimator.fitted:hover {\n  /* fitted */\n  background-color: var(--sklearn-color-fitted-level-2);\n}\n\n/* Specification for estimator info (e.g. \"i\" and \"?\") */\n\n/* Common style for \"i\" and \"?\" */\n\n.sk-estimator-doc-link,\na:link.sk-estimator-doc-link,\na:visited.sk-estimator-doc-link {\n  float: right;\n  font-size: smaller;\n  line-height: 1em;\n  font-family: monospace;\n  background-color: var(--sklearn-color-background);\n  border-radius: 1em;\n  height: 1em;\n  width: 1em;\n  text-decoration: none !important;\n  margin-left: 0.5em;\n  text-align: center;\n  /* unfitted */\n  border: var(--sklearn-color-unfitted-level-1) 1pt solid;\n  color: var(--sklearn-color-unfitted-level-1);\n}\n\n.sk-estimator-doc-link.fitted,\na:link.sk-estimator-doc-link.fitted,\na:visited.sk-estimator-doc-link.fitted {\n  /* fitted */\n  border: var(--sklearn-color-fitted-level-1) 1pt solid;\n  color: var(--sklearn-color-fitted-level-1);\n}\n\n/* On hover */\ndiv.sk-estimator:hover .sk-estimator-doc-link:hover,\n.sk-estimator-doc-link:hover,\ndiv.sk-label-container:hover .sk-estimator-doc-link:hover,\n.sk-estimator-doc-link:hover {\n  /* unfitted */\n  background-color: var(--sklearn-color-unfitted-level-3);\n  color: var(--sklearn-color-background);\n  text-decoration: none;\n}\n\ndiv.sk-estimator.fitted:hover .sk-estimator-doc-link.fitted:hover,\n.sk-estimator-doc-link.fitted:hover,\ndiv.sk-label-container:hover .sk-estimator-doc-link.fitted:hover,\n.sk-estimator-doc-link.fitted:hover {\n  /* fitted */\n  background-color: var(--sklearn-color-fitted-level-3);\n  color: var(--sklearn-color-background);\n  text-decoration: none;\n}\n\n/* Span, style for the box shown on hovering the info icon */\n.sk-estimator-doc-link span {\n  display: none;\n  z-index: 9999;\n  position: relative;\n  font-weight: normal;\n  right: .2ex;\n  padding: .5ex;\n  margin: .5ex;\n  width: min-content;\n  min-width: 20ex;\n  max-width: 50ex;\n  color: var(--sklearn-color-text);\n  box-shadow: 2pt 2pt 4pt #999;\n  /* unfitted */\n  background: var(--sklearn-color-unfitted-level-0);\n  border: .5pt solid var(--sklearn-color-unfitted-level-3);\n}\n\n.sk-estimator-doc-link.fitted span {\n  /* fitted */\n  background: var(--sklearn-color-fitted-level-0);\n  border: var(--sklearn-color-fitted-level-3);\n}\n\n.sk-estimator-doc-link:hover span {\n  display: block;\n}\n\n/* \"?\"-specific style due to the `<a>` HTML tag */\n\n#sk-container-id-1 a.estimator_doc_link {\n  float: right;\n  font-size: 1rem;\n  line-height: 1em;\n  font-family: monospace;\n  background-color: var(--sklearn-color-background);\n  border-radius: 1rem;\n  height: 1rem;\n  width: 1rem;\n  text-decoration: none;\n  /* unfitted */\n  color: var(--sklearn-color-unfitted-level-1);\n  border: var(--sklearn-color-unfitted-level-1) 1pt solid;\n}\n\n#sk-container-id-1 a.estimator_doc_link.fitted {\n  /* fitted */\n  border: var(--sklearn-color-fitted-level-1) 1pt solid;\n  color: var(--sklearn-color-fitted-level-1);\n}\n\n/* On hover */\n#sk-container-id-1 a.estimator_doc_link:hover {\n  /* unfitted */\n  background-color: var(--sklearn-color-unfitted-level-3);\n  color: var(--sklearn-color-background);\n  text-decoration: none;\n}\n\n#sk-container-id-1 a.estimator_doc_link.fitted:hover {\n  /* fitted */\n  background-color: var(--sklearn-color-fitted-level-3);\n}\n</style><div id=\"sk-container-id-1\" class=\"sk-top-container\"><div class=\"sk-text-repr-fallback\"><pre>CRF(algorithm=&#x27;lbfgs&#x27;, all_possible_transitions=True, c1=0.1, c2=0.1,\n    max_iterations=100)</pre><b>In a Jupyter environment, please rerun this cell to show the HTML representation or trust the notebook. <br />On GitHub, the HTML representation is unable to render, please try loading this page with nbviewer.org.</b></div><div class=\"sk-container\" hidden><div class=\"sk-item\"><div class=\"sk-estimator fitted sk-toggleable\"><input class=\"sk-toggleable__control sk-hidden--visually\" id=\"sk-estimator-id-1\" type=\"checkbox\" checked><label for=\"sk-estimator-id-1\" class=\"sk-toggleable__label fitted sk-toggleable__label-arrow\"><div><div>CRF</div></div><div><span class=\"sk-estimator-doc-link fitted\">i<span>Fitted</span></span></div></label><div class=\"sk-toggleable__content fitted\"><pre>CRF(algorithm=&#x27;lbfgs&#x27;, all_possible_transitions=True, c1=0.1, c2=0.1,\n    max_iterations=100)</pre></div> </div></div></div></div>"
     },
     "execution_count": 46,
     "metadata": {},
     "output_type": "execute_result"
    }
   ],
   "source": [
    "crf = sklearn_crfsuite.CRF(\n",
    "    algorithm='lbfgs', \n",
    "    c1=0.1, \n",
    "    c2=0.1, \n",
    "    max_iterations=100, \n",
    "    all_possible_transitions=True\n",
    ")\n",
    "crf.fit(X_train, y_train)"
   ],
   "metadata": {
    "collapsed": false,
    "ExecuteTime": {
     "end_time": "2025-05-31T13:49:13.243431Z",
     "start_time": "2025-05-31T13:47:33.090370Z"
    }
   },
   "id": "93208cff80901949",
   "execution_count": 46
  },
  {
   "cell_type": "markdown",
   "source": [
    "## Evaluate the model on the train data"
   ],
   "metadata": {
    "collapsed": false
   },
   "id": "199be68c7ef617ba"
  },
  {
   "cell_type": "code",
   "outputs": [
    {
     "name": "stdout",
     "output_type": "stream",
     "text": [
      "Labels: ['O', 'B-geo', 'B-gpe', 'B-tim', 'B-org', 'I-geo', 'B-per', 'I-per', 'I-org', 'I-tim', 'B-art', 'I-art', 'B-nat', 'I-gpe', 'I-nat', 'B-eve', 'I-eve']\n",
      "Train classification report:\n",
      "              precision    recall  f1-score   support\n",
      "\n",
      "           O      0.891     0.975     0.931       159\n",
      "       B-geo      0.429     1.000     0.600         3\n",
      "       B-gpe      0.000     0.000     0.000         0\n",
      "       B-tim      0.000     0.000     0.000         0\n",
      "       B-org      0.500     0.375     0.429         8\n",
      "       I-geo      0.667     1.000     0.800         2\n",
      "       B-per      0.889     0.667     0.762        12\n",
      "       I-per      1.000     0.538     0.700        13\n",
      "       I-org      0.500     0.600     0.545         5\n",
      "       I-tim      0.000     0.000     0.000         0\n",
      "       B-art      0.000     0.000     0.000         6\n",
      "       I-art      0.000     0.000     0.000         8\n",
      "       B-nat      0.000     0.000     0.000         0\n",
      "       I-gpe      0.000     0.000     0.000         0\n",
      "       I-nat      0.000     0.000     0.000         0\n",
      "       B-eve      0.000     0.000     0.000         0\n",
      "       I-eve      0.000     0.000     0.000         0\n",
      "\n",
      "    accuracy                          0.838       216\n",
      "   macro avg      0.287     0.303     0.280       216\n",
      "weighted avg      0.808     0.838     0.814       216\n"
     ]
    },
    {
     "name": "stderr",
     "output_type": "stream",
     "text": [
      "/Users/bogdankryvenko/Desktop/pythonProject333/.venv/lib/python3.12/site-packages/sklearn/metrics/_classification.py:1565: UndefinedMetricWarning: Precision is ill-defined and being set to 0.0 in labels with no predicted samples. Use `zero_division` parameter to control this behavior.\n",
      "  _warn_prf(average, modifier, f\"{metric.capitalize()} is\", len(result))\n",
      "/Users/bogdankryvenko/Desktop/pythonProject333/.venv/lib/python3.12/site-packages/sklearn/metrics/_classification.py:1565: UndefinedMetricWarning: Recall is ill-defined and being set to 0.0 in labels with no true samples. Use `zero_division` parameter to control this behavior.\n",
      "  _warn_prf(average, modifier, f\"{metric.capitalize()} is\", len(result))\n",
      "/Users/bogdankryvenko/Desktop/pythonProject333/.venv/lib/python3.12/site-packages/sklearn/metrics/_classification.py:1565: UndefinedMetricWarning: F-score is ill-defined and being set to 0.0 in labels with no true nor predicted samples. Use `zero_division` parameter to control this behavior.\n",
      "  _warn_prf(average, modifier, f\"{metric.capitalize()} is\", len(result))\n",
      "/Users/bogdankryvenko/Desktop/pythonProject333/.venv/lib/python3.12/site-packages/sklearn/metrics/_classification.py:1565: UndefinedMetricWarning: Precision is ill-defined and being set to 0.0 in labels with no predicted samples. Use `zero_division` parameter to control this behavior.\n",
      "  _warn_prf(average, modifier, f\"{metric.capitalize()} is\", len(result))\n",
      "/Users/bogdankryvenko/Desktop/pythonProject333/.venv/lib/python3.12/site-packages/sklearn/metrics/_classification.py:1565: UndefinedMetricWarning: Recall is ill-defined and being set to 0.0 in labels with no true samples. Use `zero_division` parameter to control this behavior.\n",
      "  _warn_prf(average, modifier, f\"{metric.capitalize()} is\", len(result))\n",
      "/Users/bogdankryvenko/Desktop/pythonProject333/.venv/lib/python3.12/site-packages/sklearn/metrics/_classification.py:1565: UndefinedMetricWarning: F-score is ill-defined and being set to 0.0 in labels with no true nor predicted samples. Use `zero_division` parameter to control this behavior.\n",
      "  _warn_prf(average, modifier, f\"{metric.capitalize()} is\", len(result))\n",
      "/Users/bogdankryvenko/Desktop/pythonProject333/.venv/lib/python3.12/site-packages/sklearn/metrics/_classification.py:1565: UndefinedMetricWarning: Precision is ill-defined and being set to 0.0 in labels with no predicted samples. Use `zero_division` parameter to control this behavior.\n",
      "  _warn_prf(average, modifier, f\"{metric.capitalize()} is\", len(result))\n",
      "/Users/bogdankryvenko/Desktop/pythonProject333/.venv/lib/python3.12/site-packages/sklearn/metrics/_classification.py:1565: UndefinedMetricWarning: Recall is ill-defined and being set to 0.0 in labels with no true samples. Use `zero_division` parameter to control this behavior.\n",
      "  _warn_prf(average, modifier, f\"{metric.capitalize()} is\", len(result))\n",
      "/Users/bogdankryvenko/Desktop/pythonProject333/.venv/lib/python3.12/site-packages/sklearn/metrics/_classification.py:1565: UndefinedMetricWarning: F-score is ill-defined and being set to 0.0 in labels with no true nor predicted samples. Use `zero_division` parameter to control this behavior.\n",
      "  _warn_prf(average, modifier, f\"{metric.capitalize()} is\", len(result))\n"
     ]
    }
   ],
   "source": [
    "y_pred = crf.predict(X_test)\n",
    "labels = list(crf.classes_)\n",
    "print(\"Labels:\", labels)\n",
    "print(\"Train classification report:\")\n",
    "print(metrics.flat_classification_report(\n",
    "    y_test, y_pred, labels=labels, digits=3\n",
    "))"
   ],
   "metadata": {
    "collapsed": false,
    "ExecuteTime": {
     "end_time": "2025-05-31T13:49:13.346443Z",
     "start_time": "2025-05-31T13:49:13.244352Z"
    }
   },
   "id": "b7b4f63588bd3b62",
   "execution_count": 47
  },
  {
   "cell_type": "code",
   "outputs": [
    {
     "name": "stdout",
     "output_type": "stream",
     "text": [
      "              precision    recall  f1-score   support\n",
      "\n",
      "       B-art      0.000     0.000     0.000         6\n",
      "       I-art      0.000     0.000     0.000         8\n",
      "       B-eve      0.000     0.000     0.000         0\n",
      "       I-eve      0.000     0.000     0.000         0\n",
      "       B-geo      0.429     1.000     0.600         3\n",
      "       I-geo      0.667     1.000     0.800         2\n",
      "       B-gpe      0.000     0.000     0.000         0\n",
      "       I-gpe      0.000     0.000     0.000         0\n",
      "       B-nat      0.000     0.000     0.000         0\n",
      "       I-nat      0.000     0.000     0.000         0\n",
      "       B-org      0.500     0.375     0.429         8\n",
      "       I-org      0.500     0.600     0.545         5\n",
      "       B-per      0.889     0.667     0.762        12\n",
      "       I-per      1.000     0.538     0.700        13\n",
      "       B-tim      0.000     0.000     0.000         0\n",
      "       I-tim      0.000     0.000     0.000         0\n",
      "\n",
      "   micro avg      0.619     0.456     0.525        57\n",
      "   macro avg      0.249     0.261     0.240        57\n",
      "weighted avg      0.575     0.456     0.488        57\n"
     ]
    },
    {
     "name": "stderr",
     "output_type": "stream",
     "text": [
      "/Users/bogdankryvenko/Desktop/pythonProject333/.venv/lib/python3.12/site-packages/sklearn/metrics/_classification.py:1565: UndefinedMetricWarning: F-score is ill-defined and being set to 0.0 in labels with no true nor predicted samples. Use `zero_division` parameter to control this behavior.\n",
      "  _warn_prf(average, modifier, f\"{metric.capitalize()} is\", len(result))\n",
      "/Users/bogdankryvenko/Desktop/pythonProject333/.venv/lib/python3.12/site-packages/sklearn/metrics/_classification.py:1565: UndefinedMetricWarning: Precision is ill-defined and being set to 0.0 in labels with no predicted samples. Use `zero_division` parameter to control this behavior.\n",
      "  _warn_prf(average, modifier, f\"{metric.capitalize()} is\", len(result))\n",
      "/Users/bogdankryvenko/Desktop/pythonProject333/.venv/lib/python3.12/site-packages/sklearn/metrics/_classification.py:1565: UndefinedMetricWarning: Recall is ill-defined and being set to 0.0 in labels with no true samples. Use `zero_division` parameter to control this behavior.\n",
      "  _warn_prf(average, modifier, f\"{metric.capitalize()} is\", len(result))\n",
      "/Users/bogdankryvenko/Desktop/pythonProject333/.venv/lib/python3.12/site-packages/sklearn/metrics/_classification.py:1565: UndefinedMetricWarning: F-score is ill-defined and being set to 0.0 in labels with no true nor predicted samples. Use `zero_division` parameter to control this behavior.\n",
      "  _warn_prf(average, modifier, f\"{metric.capitalize()} is\", len(result))\n",
      "/Users/bogdankryvenko/Desktop/pythonProject333/.venv/lib/python3.12/site-packages/sklearn/metrics/_classification.py:1565: UndefinedMetricWarning: Precision is ill-defined and being set to 0.0 in labels with no predicted samples. Use `zero_division` parameter to control this behavior.\n",
      "  _warn_prf(average, modifier, f\"{metric.capitalize()} is\", len(result))\n",
      "/Users/bogdankryvenko/Desktop/pythonProject333/.venv/lib/python3.12/site-packages/sklearn/metrics/_classification.py:1565: UndefinedMetricWarning: Recall is ill-defined and being set to 0.0 in labels with no true samples. Use `zero_division` parameter to control this behavior.\n",
      "  _warn_prf(average, modifier, f\"{metric.capitalize()} is\", len(result))\n",
      "/Users/bogdankryvenko/Desktop/pythonProject333/.venv/lib/python3.12/site-packages/sklearn/metrics/_classification.py:1565: UndefinedMetricWarning: F-score is ill-defined and being set to 0.0 in labels with no true nor predicted samples. Use `zero_division` parameter to control this behavior.\n",
      "  _warn_prf(average, modifier, f\"{metric.capitalize()} is\", len(result))\n",
      "/Users/bogdankryvenko/Desktop/pythonProject333/.venv/lib/python3.12/site-packages/sklearn/metrics/_classification.py:1565: UndefinedMetricWarning: Precision is ill-defined and being set to 0.0 in labels with no predicted samples. Use `zero_division` parameter to control this behavior.\n",
      "  _warn_prf(average, modifier, f\"{metric.capitalize()} is\", len(result))\n",
      "/Users/bogdankryvenko/Desktop/pythonProject333/.venv/lib/python3.12/site-packages/sklearn/metrics/_classification.py:1565: UndefinedMetricWarning: Recall is ill-defined and being set to 0.0 in labels with no true samples. Use `zero_division` parameter to control this behavior.\n",
      "  _warn_prf(average, modifier, f\"{metric.capitalize()} is\", len(result))\n",
      "/Users/bogdankryvenko/Desktop/pythonProject333/.venv/lib/python3.12/site-packages/sklearn/metrics/_classification.py:1565: UndefinedMetricWarning: F-score is ill-defined and being set to 0.0 in labels with no true nor predicted samples. Use `zero_division` parameter to control this behavior.\n",
      "  _warn_prf(average, modifier, f\"{metric.capitalize()} is\", len(result))\n"
     ]
    }
   ],
   "source": [
    "labels = list(crf.classes_)\n",
    "labels.remove('O')\n",
    "\n",
    "y_pred = crf.predict(X_test)\n",
    "metrics.flat_f1_score(y_test, y_pred, \n",
    "                      average='weighted', labels=labels)\n",
    "\n",
    "sorted_labels = sorted(\n",
    "    labels, \n",
    "    key=lambda name: (name[1:], name[0])\n",
    ")\n",
    "print(metrics.flat_classification_report(\n",
    "    y_test, y_pred, labels=sorted_labels, digits=3\n",
    "))"
   ],
   "metadata": {
    "collapsed": false,
    "ExecuteTime": {
     "end_time": "2025-05-31T13:52:46.558860Z",
     "start_time": "2025-05-31T13:52:46.552103Z"
    }
   },
   "id": "26206e6271e0ab39",
   "execution_count": 49
  },
  {
   "cell_type": "markdown",
   "source": [
    "## Visualize the results"
   ],
   "metadata": {
    "collapsed": false
   },
   "id": "379996f2c0db9ebd"
  },
  {
   "cell_type": "code",
   "outputs": [],
   "source": [],
   "metadata": {
    "collapsed": false,
    "ExecuteTime": {
     "end_time": "2025-05-31T15:49:20.075743Z",
     "start_time": "2025-05-31T15:49:20.069645Z"
    }
   },
   "id": "8cf6db3e84421019",
   "execution_count": 87
  },
  {
   "cell_type": "markdown",
   "source": [
    "## Transformers"
   ],
   "metadata": {
    "collapsed": false
   },
   "id": "21a8e0796c967531"
  },
  {
   "cell_type": "code",
   "outputs": [
    {
     "name": "stderr",
     "output_type": "stream",
     "text": [
      "Some weights of the model checkpoint at dslim/bert-base-NER were not used when initializing BertForTokenClassification: ['bert.pooler.dense.bias', 'bert.pooler.dense.weight']\n",
      "- This IS expected if you are initializing BertForTokenClassification from the checkpoint of a model trained on another task or with another architecture (e.g. initializing a BertForSequenceClassification model from a BertForPreTraining model).\n",
      "- This IS NOT expected if you are initializing BertForTokenClassification from the checkpoint of a model that you expect to be exactly identical (initializing a BertForSequenceClassification model from a BertForSequenceClassification model).\n"
     ]
    }
   ],
   "source": [
    "from simpletransformers.ner import NERModel\n",
    "bert_model = NERModel(\n",
    "        model_type=\"bert\",\n",
    "        model_name=\"dslim/bert-base-NER\",\n",
    "        use_cuda=False\n",
    ")"
   ],
   "metadata": {
    "collapsed": false,
    "ExecuteTime": {
     "end_time": "2025-05-31T15:52:53.768364Z",
     "start_time": "2025-05-31T15:52:53.451658Z"
    }
   },
   "id": "9c3e13f768c2394e",
   "execution_count": 92
  },
  {
   "cell_type": "code",
   "outputs": [
    {
     "data": {
      "text/plain": "  0%|          | 0/1 [00:00<?, ?it/s]",
      "application/vnd.jupyter.widget-view+json": {
       "version_major": 2,
       "version_minor": 0,
       "model_id": "a0b8f2d784fe43b48060c2bd3d9c8292"
      }
     },
     "metadata": {},
     "output_type": "display_data"
    },
    {
     "data": {
      "text/plain": "Running Prediction:   0%|          | 0/1 [00:00<?, ?it/s]",
      "application/vnd.jupyter.widget-view+json": {
       "version_major": 2,
       "version_minor": 0,
       "model_id": "d51a708beadf4af68e3e2c1576f497f3"
      }
     },
     "metadata": {},
     "output_type": "display_data"
    }
   ],
   "source": [
    "bert_predictions, raw_outputs = bert_model.predict(test_sentences)"
   ],
   "metadata": {
    "collapsed": false,
    "ExecuteTime": {
     "end_time": "2025-05-31T16:01:36.175437Z",
     "start_time": "2025-05-31T16:01:31.233Z"
    }
   },
   "id": "8e5900be80c356dc",
   "execution_count": 99
  },
  {
   "cell_type": "markdown",
   "source": [
    "## Convert the predictions to the required format"
   ],
   "metadata": {
    "collapsed": false
   },
   "id": "d9f8f972cfc5c79d"
  },
  {
   "cell_type": "code",
   "outputs": [
    {
     "name": "stdout",
     "output_type": "stream",
     "text": [
      "[['O', 'O', 'O', 'B-geo', 'O', 'O', 'O', 'O', 'O', 'O', 'B-org', 'O', 'O', 'O', 'O', 'O', 'B-art', 'I-art', 'O'], ['B-org', 'O', 'B-org', 'O', 'B-org', 'O', 'O', 'O', 'O', 'O', 'O', 'O', 'O', 'O', 'O'], ['O', 'O', 'O', 'B-per', 'I-per', 'O', 'O', 'O', 'O', 'B-org', 'I-org', 'O'], ['O', 'O', 'O', 'O', 'O', 'O', 'O', 'O', 'O'], ['O', 'O', 'B-per', 'O', 'O', 'O', 'B-art', 'O', 'O', 'O', 'O', 'O', 'O', 'B-per', 'I-per', 'O', 'O', 'O'], ['B-per', 'I-per', 'O', 'O', 'O', 'O', 'O', 'O', 'O', 'O'], ['O', 'O', 'B-per', 'O', 'O', 'O', 'B-per', 'O', 'O', 'O', 'O', 'O', 'O', 'B-art', 'O', 'I-org', 'O'], ['O', 'O', 'O', 'O', 'O', 'O', 'B-art', 'I-art', 'O', 'O'], ['O', 'O', 'O', 'O', 'O', 'O', 'O', 'O', 'B-art', 'I-art', 'I-art', 'I-art', 'I-art', 'B-geo', 'O'], ['B-per', 'I-per', 'O', 'O', 'O', 'O', 'O', 'O', 'O', 'O', 'O', 'O', 'O', 'O', 'B-org', 'O'], ['O', 'O', 'O', 'O', 'O', 'B-geo', 'I-geo', 'O', 'O', 'O', 'O', 'B-geo', 'I-geo', 'O'], ['B-art', 'O', 'O', 'O', 'O', 'O', 'O', 'O', 'B-per', 'I-per', 'O', 'O', 'O', 'O', 'O', 'O', 'O', 'O', 'O', 'O'], ['B-org', 'I-org', 'O', 'O', 'O', 'O', 'O', 'O', 'O', 'O', 'O', 'O', 'O', 'O', 'O'], ['B-per', 'I-per', 'O', 'O', 'O', 'O', 'O', 'O', 'O', 'B-art', 'I-art', 'O'], ['B-per', 'I-per', 'I-per', 'I-per', 'O', 'O', 'O', 'O', 'O', 'O', 'B-org', 'I-org', 'I-org', 'O']]\n"
     ]
    }
   ],
   "source": [
    "converted_bert_predictions = []\n",
    "label_mapping = {\n",
    "        'B-PER': 'B-per',\n",
    "        'I-PER': 'I-per',\n",
    "        'B-ORG': 'B-org', \n",
    "        'I-ORG': 'I-org',\n",
    "        'B-LOC': 'B-geo',\n",
    "        'I-LOC': 'I-geo',\n",
    "        'B-MISC': 'B-art',\n",
    "        'I-MISC': 'I-art',\n",
    "        'O': 'O'\n",
    "}\n",
    "for sentence_prediction in bert_predictions:\n",
    "    converted_sentence_prediction = []\n",
    "    \n",
    "    for word_prediction in sentence_prediction:\n",
    "        for _, label in word_prediction.items():\n",
    "            converted_sentence_prediction.append(label_mapping[label])\n",
    "            \n",
    "    converted_bert_predictions.append(converted_sentence_prediction)"
   ],
   "metadata": {
    "collapsed": false,
    "ExecuteTime": {
     "end_time": "2025-05-31T16:05:53.014033Z",
     "start_time": "2025-05-31T16:05:53.005528Z"
    }
   },
   "id": "3be496108634c144",
   "execution_count": 104
  },
  {
   "cell_type": "markdown",
   "source": [
    "## Evaluate the BERT model predictions"
   ],
   "metadata": {
    "collapsed": false
   },
   "id": "9a8b3b057d023201"
  },
  {
   "cell_type": "code",
   "outputs": [
    {
     "name": "stdout",
     "output_type": "stream",
     "text": [
      "              precision    recall  f1-score   support\n",
      "\n",
      "           O      0.768     0.792     0.780       159\n",
      "       B-art      0.143     0.167     0.154         6\n",
      "       I-art      0.143     0.125     0.133         8\n",
      "       B-geo      0.250     0.333     0.286         3\n",
      "       I-geo      0.000     0.000     0.000         2\n",
      "       B-org      0.125     0.125     0.125         8\n",
      "       I-org      0.000     0.000     0.000         5\n",
      "       B-per      0.100     0.083     0.091        12\n",
      "       I-per      0.000     0.000     0.000        13\n",
      "\n",
      "    accuracy                          0.606       216\n",
      "   macro avg      0.170     0.181     0.174       216\n",
      "weighted avg      0.588     0.606     0.597       216\n"
     ]
    }
   ],
   "source": [
    "labels = list(set([label for sublist in converted_bert_predictions for label in sublist]))\n",
    "sorted_labels = sorted(\n",
    "    labels, \n",
    "    key=lambda name: (name[1:], name[0])\n",
    ")\n",
    "\n",
    "print(metrics.flat_classification_report(\n",
    "    y_test, converted_bert_predictions, labels=sorted_labels, digits=3\n",
    "))"
   ],
   "metadata": {
    "collapsed": false,
    "ExecuteTime": {
     "end_time": "2025-05-31T16:28:11.692215Z",
     "start_time": "2025-05-31T16:28:11.685792Z"
    }
   },
   "id": "2b0bd1dc445df125",
   "execution_count": 116
  },
  {
   "cell_type": "markdown",
   "source": [
    "## Evaluate the BERT model predictions with removed 'O' label"
   ],
   "metadata": {
    "collapsed": false
   },
   "id": "aa72f89eedbc4b3e"
  },
  {
   "cell_type": "code",
   "outputs": [
    {
     "name": "stdout",
     "output_type": "stream",
     "text": [
      "              precision    recall  f1-score   support\n",
      "\n",
      "       B-art      0.143     0.167     0.154         6\n",
      "       I-art      0.143     0.125     0.133         8\n",
      "       B-geo      0.250     0.333     0.286         3\n",
      "       I-geo      0.000     0.000     0.000         2\n",
      "       B-org      0.125     0.125     0.125         8\n",
      "       I-org      0.000     0.000     0.000         5\n",
      "       B-per      0.100     0.083     0.091        12\n",
      "       I-per      0.000     0.000     0.000        13\n",
      "\n",
      "   micro avg      0.096     0.088     0.092        57\n",
      "   macro avg      0.095     0.104     0.099        57\n",
      "weighted avg      0.087     0.088     0.087        57\n"
     ]
    }
   ],
   "source": [
    "labels.remove('O')\n",
    "metrics.flat_f1_score(y_test, converted_bert_predictions, \n",
    "                      average='weighted', labels=labels)\n",
    "\n",
    "sorted_labels = sorted(\n",
    "    labels, \n",
    "    key=lambda name: (name[1:], name[0])\n",
    ")\n",
    "print(metrics.flat_classification_report(\n",
    "    y_test, converted_bert_predictions, labels=sorted_labels, digits=3\n",
    "))"
   ],
   "metadata": {
    "collapsed": false,
    "ExecuteTime": {
     "end_time": "2025-05-31T16:27:15.787275Z",
     "start_time": "2025-05-31T16:27:15.772331Z"
    }
   },
   "id": "de362ace204e5bdb",
   "execution_count": 115
  },
  {
   "cell_type": "markdown",
   "source": [
    "## Visualize the results"
   ],
   "metadata": {
    "collapsed": false
   },
   "id": "3d1294841fd2379"
  },
  {
   "cell_type": "code",
   "outputs": [],
   "source": [],
   "metadata": {
    "collapsed": false
   },
   "id": "bd9354b5971a4325"
  }
 ],
 "metadata": {
  "kernelspec": {
   "display_name": "Python 3",
   "language": "python",
   "name": "python3"
  },
  "language_info": {
   "codemirror_mode": {
    "name": "ipython",
    "version": 2
   },
   "file_extension": ".py",
   "mimetype": "text/x-python",
   "name": "python",
   "nbconvert_exporter": "python",
   "pygments_lexer": "ipython2",
   "version": "2.7.6"
  }
 },
 "nbformat": 4,
 "nbformat_minor": 5
}
