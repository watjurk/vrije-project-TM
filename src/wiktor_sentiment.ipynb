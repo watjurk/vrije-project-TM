{
 "cells": [
  {
   "cell_type": "code",
   "execution_count": 20,
   "id": "414a89fc",
   "metadata": {},
   "outputs": [],
   "source": [
    "import data\n",
    "import transformers\n",
    "import os\n",
    "\n",
    "# change cwd to project root\n",
    "if os.path.split(os.getcwd())[-1] == \"src\":\n",
    "    os.chdir(\"..\")\n",
    "\n",
    "NER, SENTIMENT_TOPIC = data.load()\n",
    "\n",
    "sentences = SENTIMENT_TOPIC[\"sentence\"].to_list()\n",
    "true_labels = SENTIMENT_TOPIC[\"sentiment\"].to_list()"
   ]
  },
  {
   "cell_type": "code",
   "execution_count": 21,
   "id": "b5803a6e",
   "metadata": {},
   "outputs": [
    {
     "name": "stderr",
     "output_type": "stream",
     "text": [
      "Device set to use mps:0\n"
     ]
    }
   ],
   "source": [
    "\n",
    "classifier = transformers.pipeline(\"sentiment-analysis\", model=\"finiteautomata/bertweet-base-sentiment-analysis\")\n",
    "results = classifier(sentences)"
   ]
  },
  {
   "cell_type": "code",
   "execution_count": 22,
   "id": "6bace5fd",
   "metadata": {},
   "outputs": [
    {
     "name": "stdout",
     "output_type": "stream",
     "text": [
      "Sentence 1: The stadium was alive with the roar of the crowd after that incredible win.\n",
      "P: positive, T: positive\n",
      "positive positive\n",
      "Sentence 2: That last-minute goal had me jumping out of my seat—what an unbelievable finish!\n",
      "P: positive, T: positive\n",
      "positive positive\n",
      "Sentence 3: I couldn’t put the book down; it swept me into a whole new world.\n",
      "P: positive, T: positive\n",
      "positive positive\n",
      "Sentence 4: The story had its moments, though some parts felt like they dragged on a bit.\n",
      "P: neutral, T: neutral\n",
      "neutral neutral\n",
      "Sentence 5: I enjoyed the way the timelines shifted, even if it got a little confusing sometimes.\n",
      "P: positive, T: neutral\n",
      "positive neutral\n",
      "Sentence 6: Every time I watch this movie, I notice something new—it really grows on you.\n",
      "P: positive, T: positive\n",
      "positive positive\n",
      "Sentence 7: The movie was a wild ride from start to finish; I was on the edge of my seat the entire time.\n",
      "P: positive, T: positive\n",
      "positive positive\n",
      "Sentence 8: Honestly, the team just fell apart in the second half, and it showed on the field.\n",
      "P: negative, T: negative\n",
      "negative negative\n",
      "Sentence 9: No surprise there—the coach rested a few players given how packed the schedule was.\n",
      "P: neutral, T: neutral\n",
      "neutral neutral\n",
      "Sentence 10: The trailer was decent, giving you a taste without spilling all the secrets.\n",
      "P: positive, T: neutral\n",
      "positive neutral\n",
      "Sentence 11: I found the main character so annoying that it was hard to care about what happened next.\n",
      "P: negative, T: negative\n",
      "negative negative\n",
      "Sentence 12: The author's style feels really genuine, making each sentence resonate.\n",
      "P: positive, T: positive\n",
      "positive positive\n",
      "Sentence 13: The movie never really clicked for me; the leads just lacked any real spark.\n",
      "P: negative, T: negative\n",
      "negative negative\n",
      "Sentence 14: Both teams are playing it safe right now, so it's hard to tell who’ll eventually take the lead.\n",
      "P: neutral, T: neutral\n",
      "neutral neutral\n",
      "Sentence 15: Frankly, I don’t get the hype—it’s just a game after all.\n",
      "P: negative, T: negative\n",
      "negative negative\n",
      "Sentence 16: Word is, the screenplay was scribbled down during a casual coffee break at a busy cafe.\n",
      "P: neutral, T: neutral\n",
      "neutral neutral\n",
      "Sentence 17: It’s surprising how a promising start could unravel into such a disappointing finish.\n",
      "P: negative, T: negative\n",
      "negative negative\n",
      "Sentence 18: In the end, the book was more useful as a coaster than as something worth reading.\n",
      "P: negative, T: negative\n",
      "negative negative\n",
      "Correct prediction proportion: 0.8888888888888888\n"
     ]
    }
   ],
   "source": [
    "label_mapping = {\n",
    "    \"POS\": \"positive\",\n",
    "    \"NEG\": \"negative\",\n",
    "    \"NEU\": \"neutral\",\n",
    "}\n",
    "\n",
    "\n",
    "correct_predictions = 0\n",
    "for i, result in enumerate(results):\n",
    "    predicted_label = result[\"label\"]\n",
    "    mapped_label = label_mapping.get(predicted_label)\n",
    "\n",
    "    true_label = true_labels[i]\n",
    "    print(f\"Sentence {i + 1}: {sentences[i]}\")\n",
    "    print(f\"P: {mapped_label}, T: {true_label}\")\n",
    "\n",
    "    print(mapped_label, true_label)\n",
    "\n",
    "    if mapped_label == true_label:\n",
    "        correct_predictions += 1\n",
    "\n",
    "print(f\"Correct prediction proportion: {correct_predictions / len(results)}\")\n"
   ]
  }
 ],
 "metadata": {
  "kernelspec": {
   "display_name": "default",
   "language": "python",
   "name": "python3"
  },
  "language_info": {
   "codemirror_mode": {
    "name": "ipython",
    "version": 3
   },
   "file_extension": ".py",
   "mimetype": "text/x-python",
   "name": "python",
   "nbconvert_exporter": "python",
   "pygments_lexer": "ipython3",
   "version": "3.12.10"
  }
 },
 "nbformat": 4,
 "nbformat_minor": 5
}
