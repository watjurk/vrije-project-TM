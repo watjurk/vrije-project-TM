{
 "cells": [
  {
   "cell_type": "code",
   "execution_count": 20,
   "id": "414a89fc",
   "metadata": {},
   "outputs": [],
   "source": [
    "import data\n",
    "import transformers\n",
    "import os\n",
    "\n",
    "# change cwd to project root\n",
    "if os.path.split(os.getcwd())[-1] == \"src\":\n",
    "    os.chdir(\"..\")\n",
    "\n",
    "NER, SENTIMENT_TOPIC = data.load()\n",
    "\n",
    "sentences = SENTIMENT_TOPIC[\"sentence\"].to_list()\n",
    "true_labels = SENTIMENT_TOPIC[\"sentiment\"].to_list()"
   ]
  },
  {
   "cell_type": "code",
   "execution_count": 21,
   "id": "b5803a6e",
   "metadata": {},
   "outputs": [
    {
     "name": "stderr",
     "output_type": "stream",
     "text": [
      "Device set to use mps:0\n"
     ]
    }
   ],
   "source": [
    "\n",
    "classifier = transformers.pipeline(\"sentiment-analysis\", model=\"finiteautomata/bertweet-base-sentiment-analysis\")\n",
    "results = classifier(sentences)"
   ]
  },
  {
   "cell_type": "code",
   "execution_count": 24,
   "id": "6bace5fd",
   "metadata": {},
   "outputs": [
    {
     "name": "stdout",
     "output_type": "stream",
     "text": [
      "Sentence 1: The stadium was alive with the roar of the crowd after that incredible win.\n",
      "P: positive, T: positive\n",
      "positive positive\n",
      "Sentence 2: That last-minute goal had me jumping out of my seat—what an unbelievable finish!\n",
      "P: positive, T: positive\n",
      "positive positive\n",
      "Sentence 3: I couldn’t put the book down; it swept me into a whole new world.\n",
      "P: positive, T: positive\n",
      "positive positive\n",
      "Sentence 4: The story had its moments, though some parts felt like they dragged on a bit.\n",
      "P: neutral, T: neutral\n",
      "neutral neutral\n",
      "Sentence 5: I enjoyed the way the timelines shifted, even if it got a little confusing sometimes.\n",
      "P: positive, T: neutral\n",
      "positive neutral\n",
      "Sentence 6: Every time I watch this movie, I notice something new—it really grows on you.\n",
      "P: positive, T: positive\n",
      "positive positive\n",
      "Sentence 7: The movie was a wild ride from start to finish; I was on the edge of my seat the entire time.\n",
      "P: positive, T: positive\n",
      "positive positive\n",
      "Sentence 8: Honestly, the team just fell apart in the second half, and it showed on the field.\n",
      "P: negative, T: negative\n",
      "negative negative\n",
      "Sentence 9: No surprise there—the coach rested a few players given how packed the schedule was.\n",
      "P: neutral, T: neutral\n",
      "neutral neutral\n",
      "Sentence 10: The trailer was decent, giving you a taste without spilling all the secrets.\n",
      "P: positive, T: neutral\n",
      "positive neutral\n",
      "Sentence 11: I found the main character so annoying that it was hard to care about what happened next.\n",
      "P: negative, T: negative\n",
      "negative negative\n",
      "Sentence 12: The author's style feels really genuine, making each sentence resonate.\n",
      "P: positive, T: positive\n",
      "positive positive\n",
      "Sentence 13: The movie never really clicked for me; the leads just lacked any real spark.\n",
      "P: negative, T: negative\n",
      "negative negative\n",
      "Sentence 14: Both teams are playing it safe right now, so it's hard to tell who’ll eventually take the lead.\n",
      "P: neutral, T: neutral\n",
      "neutral neutral\n",
      "Sentence 15: Frankly, I don’t get the hype—it’s just a game after all.\n",
      "P: negative, T: negative\n",
      "negative negative\n",
      "Sentence 16: Word is, the screenplay was scribbled down during a casual coffee break at a busy cafe.\n",
      "P: neutral, T: neutral\n",
      "neutral neutral\n",
      "Sentence 17: It’s surprising how a promising start could unravel into such a disappointing finish.\n",
      "P: negative, T: negative\n",
      "negative negative\n",
      "Sentence 18: In the end, the book was more useful as a coaster than as something worth reading.\n",
      "P: negative, T: negative\n",
      "negative negative\n"
     ]
    }
   ],
   "source": [
    "label_mapping = {\n",
    "    \"POS\": \"positive\",\n",
    "    \"NEG\": \"negative\",\n",
    "    \"NEU\": \"neutral\",\n",
    "}\n",
    "\n",
    "y_true = []\n",
    "y_pred = []\n",
    "\n",
    "correct_predictions = 0\n",
    "for i, result in enumerate(results):\n",
    "    predicted_label = result[\"label\"]\n",
    "    mapped_label = label_mapping.get(predicted_label)\n",
    "\n",
    "    true_label = true_labels[i]\n",
    "    print(f\"Sentence {i + 1}: {sentences[i]}\")\n",
    "    print(f\"P: {mapped_label}, T: {true_label}\")\n",
    "\n",
    "    print(mapped_label, true_label)\n",
    "\n",
    "    y_true.append(true_label)\n",
    "    y_pred.append(mapped_label)\n",
    "\n",
    "    if mapped_label == true_label:\n",
    "        correct_predictions += 1\n"
   ]
  },
  {
   "cell_type": "code",
   "execution_count": 25,
   "id": "6f20f261",
   "metadata": {},
   "outputs": [
    {
     "name": "stdout",
     "output_type": "stream",
     "text": [
      "Correct prediction proportion: 0.8888888888888888\n",
      "\n",
      "Accuracy: 0.8888888888888888\n",
      "\n",
      "\n",
      "Classification Report:\n",
      "\n",
      "              precision    recall  f1-score   support\n",
      "\n",
      "    negative      1.000     1.000     1.000         6\n",
      "     neutral      1.000     0.667     0.800         6\n",
      "    positive      0.750     1.000     0.857         6\n",
      "\n",
      "    accuracy                          0.889        18\n",
      "   macro avg      0.917     0.889     0.886        18\n",
      "weighted avg      0.917     0.889     0.886        18\n",
      "\n"
     ]
    },
    {
     "data": {
      "image/png": "[encoded data removed]",
      "text/plain": [
       "<Figure size 600x500 with 2 Axes>"
      ]
     },
     "metadata": {},
     "output_type": "display_data"
    }
   ],
   "source": [
    "from sklearn.metrics import classification_report, confusion_matrix, accuracy_score\n",
    "import matplotlib.pyplot as plt\n",
    "import seaborn as sns\n",
    "\n",
    "print(f\"Correct prediction proportion: {correct_predictions / len(results)}\")\n",
    "\n",
    "\n",
    "acc = accuracy_score(y_true, y_pred)\n",
    "print(f\"\\nAccuracy: {acc}\\n\")\n",
    "\n",
    "# Precision, Recall, F1, Support\n",
    "print(\"\\nClassification Report:\\n\")\n",
    "print(classification_report(y_true, y_pred, digits=3))\n",
    "\n",
    "\n",
    "cm = confusion_matrix(y_true, y_pred, labels=[\"positive\", \"neutral\", \"negative\"])\n",
    "plt.figure(figsize=(6, 5))\n",
    "sns.heatmap(cm, annot=True, fmt=\"d\", cmap=\"Blues\",\n",
    "            xticklabels=[\"positive\", \"neutral\", \"negative\"],\n",
    "            yticklabels=[\"positive\", \"neutral\", \"negative\"])\n",
    "plt.xlabel(\"Predicted\")\n",
    "plt.ylabel(\"True\")\n",
    "plt.title(\"Confusion Matrix\")\n",
    "plt.tight_layout()\n",
    "plt.show()\n"
   ]
  },
  {
   "cell_type": "code",
   "execution_count": null,
   "id": "7afc1e02",
   "metadata": {},
   "outputs": [],
   "source": []
  }
 ],
 "metadata": {
  "kernelspec": {
   "display_name": "default",
   "language": "python",
   "name": "python3"
  },
  "language_info": {
   "codemirror_mode": {
    "name": "ipython",
    "version": 3
   },
   "file_extension": ".py",
   "mimetype": "text/x-python",
   "name": "python",
   "nbconvert_exporter": "python",
   "pygments_lexer": "ipython3",
   "version": "3.12.10"
  }
 },
 "nbformat": 4,
 "nbformat_minor": 5
}
